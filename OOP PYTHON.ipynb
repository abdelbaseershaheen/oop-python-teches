{
 "cells": [
  {
   "cell_type": "markdown",
   "metadata": {},
   "source": [
    "# SIMPLE OOP "
   ]
  },
  {
   "cell_type": "code",
   "execution_count": null,
   "metadata": {},
   "outputs": [],
   "source": [
    "class art:\n",
    "    def __init__(self , name ,age):\n",
    "        self.name = name\n",
    "        self.age = age\n",
    "    def song(self , song):\n",
    "        return\"{} singing {}\".format(self.name , song)\n",
    "    def dance(self):\n",
    "        return\"{} is dancing\".format(self.name)\n",
    "obj = art(\"blue\" , 20)\n",
    "print(obj.song(\"happy\"))\n",
    "print(obj.dance())"
   ]
  },
  {
   "cell_type": "code",
   "execution_count": null,
   "metadata": {},
   "outputs": [],
   "source": [
    "class Parrot:\n",
    "\n",
    "    # class attribute\n",
    "    species = \"bird\"\n",
    "\n",
    "    # instance attribute\n",
    "    def __init__(self, name, age):\n",
    "        self.name = name\n",
    "        self.age = age\n",
    "\n",
    "# instantiate the Parrot class\n",
    "blu = Parrot(\"Blu\", 10)\n",
    "woo = Parrot(\"Woo\", 15)\n",
    "\n",
    "# access the class attributes\n",
    "print(\"Blu is a {}\".format(blu.__class__.species))\n",
    "print(\"Woo is also a {}\".format(woo.__class__.species))\n",
    "\n",
    "# access the instance attributes\n",
    "print(\"{} is {} years old\".format( blu.name, blu.age))\n",
    "print(\"{} is {} years old\".format( woo.name, woo.age))"
   ]
  },
  {
   "cell_type": "markdown",
   "metadata": {},
   "source": [
    "# Inheritance"
   ]
  },
  {
   "cell_type": "code",
   "execution_count": null,
   "metadata": {},
   "outputs": [],
   "source": [
    "class bird:\n",
    "    def __init__(self):\n",
    "        print(\"hello bird\")\n",
    "    def whoisthis(self):\n",
    "        print(\"this is bird\")\n",
    "    def swim(self):\n",
    "        print(\"it can swim\")\n",
    "class pingun(bird):\n",
    "    def __init__(self):\n",
    "        super().__init__()\n",
    "        print(\"hello mr pingun\")\n",
    "    def whoisthis(self):\n",
    "        print(\"this is mr pingun\")\n",
    "    def run(self):\n",
    "        pring(\"pingun can't run\")\n",
    "pingun = pingun()\n",
    "pingun"
   ]
  },
  {
   "cell_type": "markdown",
   "metadata": {},
   "source": [
    "# Polymorphism"
   ]
  },
  {
   "cell_type": "code",
   "execution_count": 7,
   "metadata": {},
   "outputs": [
    {
     "name": "stdout",
     "output_type": "stream",
     "text": [
      "shape fill with red\n",
      "color red has been cleared\n",
      "shape fill with blue\n",
      "color blue has been cleared\n"
     ]
    }
   ],
   "source": [
    "class RED:\n",
    "    def fil(self):\n",
    "        print(\"shape fill with red\")\n",
    "    def clear(self):\n",
    "        print(\"color red has been cleared\")\n",
    "class BLUE:\n",
    "    def fil(self):\n",
    "        print(\"shape fill with blue\")\n",
    "    def clear(self):\n",
    "        print(\"color blue has been cleared\")\n",
    "def clr(color):\n",
    "    color.fil()\n",
    "    color.clear()\n",
    "rectang = RED()\n",
    "circule = BLUE()\n",
    "\n",
    "clr(rectang)\n",
    "clr(circule)\n"
   ]
  },
  {
   "cell_type": "code",
   "execution_count": null,
   "metadata": {},
   "outputs": [],
   "source": []
  }
 ],
 "metadata": {
  "kernelspec": {
   "display_name": "Python 3",
   "language": "python",
   "name": "python3"
  },
  "language_info": {
   "codemirror_mode": {
    "name": "ipython",
    "version": 3
   },
   "file_extension": ".py",
   "mimetype": "text/x-python",
   "name": "python",
   "nbconvert_exporter": "python",
   "pygments_lexer": "ipython3",
   "version": "3.7.4"
  }
 },
 "nbformat": 4,
 "nbformat_minor": 2
}
